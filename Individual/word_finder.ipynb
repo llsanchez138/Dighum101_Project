{
 "cells": [
  {
   "cell_type": "code",
   "execution_count": 1,
   "metadata": {},
   "outputs": [],
   "source": [
    "#Japanese vs US ads "
   ]
  },
  {
   "cell_type": "code",
   "execution_count": 10,
   "metadata": {},
   "outputs": [],
   "source": [
    "import matplotlib as plt\n",
    "%matplotlib inline\n",
    "import pandas as pd\n",
    "import pytesseract \n",
    "import cv2\n",
    "#pytesseract.pytesseract.tesseract_cmd = r'C:\\\\Program Files\\\\Tesseract-OCR\\\\tesseract.exe'\n",
    "import numpy as np\n",
    "import spacy\n",
    "from PIL import Image \n",
    "pytesseract.pytesseract.tesseract_cmd = '/usr/local/Cellar/tesseract/4.1.1/bin/tesseract'\n",
    "tessdata_dir_config = \"/usr/local/Cellar/tesseract/4.1.1/bin/tesseract\"\n",
    "from googletrans import Translator"
   ]
  },
  {
   "cell_type": "code",
   "execution_count": 13,
   "metadata": {},
   "outputs": [],
   "source": [
    "translator = Translator()"
   ]
  },
  {
   "cell_type": "code",
   "execution_count": 16,
   "metadata": {},
   "outputs": [
    {
     "name": "stdout",
     "output_type": "stream",
     "text": [
      "Lo Hiko\n",
      "Let's see the encounter of pressure.\n"
     ]
    }
   ],
   "source": [
    "jpn_mcd_ad = cv2.imread(\"/Users/lsanchez/Desktop/jpn_mcd.jpg\", cv2.IMREAD_GRAYSCALE)\n",
    "\n",
    "jpn_mcd_txt = pytesseract.image_to_string(jpn_mcd_ad, lang=\"jpn\")  #Specify language to look after!\n",
    "\n",
    "jpn_mcd_txt_trans = translator.translate(jpn_mcd_txt, src = \"ja\", dest = \"en\")\n",
    "#print(ad_text)\n",
    "print(jpn_mcd_txt_trans.text)"
   ]
  },
  {
   "cell_type": "code",
   "execution_count": 23,
   "metadata": {},
   "outputs": [
    {
     "name": "stdout",
     "output_type": "stream",
     "text": [
      "Translated(src=ja, dest=en, text=End 4 phase\n",
      "s, -te Se\n",
      "\n",
      ", ② See the secret of deliciousness, pronunciation=[[]], extra_data=\"{'translat...\")\n"
     ]
    }
   ],
   "source": [
    "jpn_mcd_ad2 = cv2.imread(\"/Users/lsanchez/Desktop/jpn_mcd2.jpg\", cv2.IMREAD_GRAYSCALE)\n",
    "jpn_ad2_txt = pytesseract.image_to_string(jpn_mcd_ad2, lang = \"jpn\")\n",
    "jpn_mcd2_txt_trans = translator.translate(jpn_ad2_txt, src = \"ja\", dest = \"en\")\n",
    "print(jpn_mcd2_txt_trans)"
   ]
  }
 ],
 "metadata": {
  "kernelspec": {
   "display_name": "Python 3",
   "language": "python",
   "name": "python3"
  },
  "language_info": {
   "codemirror_mode": {
    "name": "ipython",
    "version": 3
   },
   "file_extension": ".py",
   "mimetype": "text/x-python",
   "name": "python",
   "nbconvert_exporter": "python",
   "pygments_lexer": "ipython3",
   "version": "3.7.6"
  }
 },
 "nbformat": 4,
 "nbformat_minor": 4
}
