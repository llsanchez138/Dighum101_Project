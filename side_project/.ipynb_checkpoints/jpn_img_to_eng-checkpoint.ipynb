{
 "cells": [
  {
   "cell_type": "markdown",
   "metadata": {},
   "source": [
    "## Reading Japanese Text from Images and Translating to English\n",
    "#### Needs work, inconsistent translations, missing characters"
   ]
  },
  {
   "cell_type": "code",
   "execution_count": 1,
   "metadata": {
    "scrolled": true
   },
   "outputs": [],
   "source": [
    "#!pip install opencv-python\n",
    "#!pip install pytesseract\n",
    "#!pip install -U spacy"
   ]
  },
  {
   "cell_type": "code",
   "execution_count": 2,
   "metadata": {},
   "outputs": [],
   "source": [
    "import matplotlib as plt\n",
    "%matplotlib inline\n",
    "import pandas as pd\n",
    "import pytesseract \n",
    "import cv2\n",
    "pytesseract.pytesseract.tesseract_cmd = r'C:\\\\Program Files\\\\Tesseract-OCR\\\\tesseract.exe'\n",
    "import numpy as np\n",
    "import spacy\n",
    "from PIL import Image"
   ]
  },
  {
   "cell_type": "code",
   "execution_count": 3,
   "metadata": {
    "scrolled": true
   },
   "outputs": [
    {
     "data": {
      "text/plain": [
       "'UTF-8'"
      ]
     },
     "execution_count": 3,
     "metadata": {},
     "output_type": "execute_result"
    }
   ],
   "source": [
    "import locale\n",
    "locale.getpreferredencoding()\n"
   ]
  },
  {
   "cell_type": "code",
   "execution_count": 11,
   "metadata": {
    "scrolled": false
   },
   "outputs": [
    {
     "name": "stdout",
     "output_type": "stream",
     "text": [
      "Requirement already satisfied: opencv-contrib-python in /Users/lsanchez/opt/anaconda3/lib/python3.7/site-packages (4.2.0.34)\r\n",
      "Requirement already satisfied: numpy>=1.14.5 in /Users/lsanchez/opt/anaconda3/lib/python3.7/site-packages (from opencv-contrib-python) (1.18.1)\r\n"
     ]
    }
   ],
   "source": [
    "#!pip install opencv-contrib-python"
   ]
  },
  {
   "cell_type": "code",
   "execution_count": 8,
   "metadata": {},
   "outputs": [],
   "source": [
    "#!brew install tesseract\n",
    "#!pip install tesseract-ocr-jpn\n",
    "#!brew list tesseract\n",
    "pytesseract.pytesseract.tesseract_cmd = '/usr/local/Cellar/tesseract/4.1.1/bin/tesseract'\n",
    "tessdata_dir_config = \"/usr/local/Cellar/tesseract/4.1.1/bin/tesseract\""
   ]
  },
  {
   "cell_type": "code",
   "execution_count": 11,
   "metadata": {},
   "outputs": [],
   "source": [
    "import os"
   ]
  },
  {
   "cell_type": "code",
   "execution_count": 12,
   "metadata": {},
   "outputs": [
    {
     "data": {
      "text/plain": [
       "'/Users/lsanchez/Desktop/DIGHUM101_Project/side_project'"
      ]
     },
     "execution_count": 12,
     "metadata": {},
     "output_type": "execute_result"
    }
   ],
   "source": [
    "os.getcwd()"
   ]
  },
  {
   "cell_type": "code",
   "execution_count": 13,
   "metadata": {
    "scrolled": false
   },
   "outputs": [
    {
     "name": "stdout",
     "output_type": "stream",
     "text": [
      "SURPRISINGLY,\n",
      "ata yao\n",
      "WORDS HE\n",
      "\n",
      "SPOKE BEFORE\n",
      "THEY LOPPED\n",
      "OFF HIS HEAD\n",
      "\n",
      "INSPIRED\n",
      "\n",
      "AQVENTURERS\n",
      "\n",
      "THROUGHOUT\n",
      "\n",
      "THE WORLO TO\n",
      "\n",
      "SAIL THE SEAS.\n",
      "\n",
      "SS\n",
      "ABOUT TO\n",
      "WITNESS\n",
      ")\n",
      "GREAT ERA\n",
      "\n",
      "GOLD\n",
      "\n",
      "ROGER,\n",
      "\n",
      "THE\n",
      "WEALTH, \"KING OF\n",
      "\n",
      "FAME aries\n",
      "\n",
      "ANO ee\n",
      "power PIRATES,\n",
      "\n",
      "HAD ALL\n",
      "ott =e)\n",
      "ee Tt (ill,\n",
      "\n",
      "HIS.\n",
      "\n",
      " \n",
      "\n",
      "iv\n",
      "\n",
      "MY\n",
      "TREASURE?\n",
      "WHY, IT’S RIGHT\n",
      "WHERE | LEFT IT...\n",
      "\n",
      "YOURS IF YOU\n",
      "CAN FINO IT...\n",
      "BUT YOU'LL HAVE\n",
      "TO SEARCH THE\n",
      "WHOLE WORLD!\n",
      "\n",
      " \n",
      "\n",
      "{My\n",
      "\n",
      "(y)\n"
     ]
    }
   ],
   "source": [
    "#reads english version of manga, but does not read boxes correctly\n",
    "op_eng_img=Image.open(\"shounen/onepiece_engtest.jpg\")\n",
    "op_eng_img.load()\n",
    "eng_text = pytesseract.image_to_string(op_eng_img, lang = \"eng\")    \n",
    "print(eng_text)"
   ]
  },
  {
   "cell_type": "code",
   "execution_count": 14,
   "metadata": {},
   "outputs": [],
   "source": [
    "#!pip install googletrans\n",
    "#!pip install translate"
   ]
  },
  {
   "cell_type": "code",
   "execution_count": 15,
   "metadata": {},
   "outputs": [],
   "source": [
    "from googletrans import Translator\n"
   ]
  },
  {
   "cell_type": "code",
   "execution_count": 16,
   "metadata": {},
   "outputs": [
    {
     "name": "stdout",
     "output_type": "stream",
     "text": [
      "に\n",
      "如\n",
      "\n",
      "びっくりレし:\n",
      "Guru\n",
      "Was\n",
      "\n",
      "To Cu\n"
     ]
    }
   ],
   "source": [
    "#reading whole managa page, changed to reading vertical, but program not finding all words\n",
    "img = Image.open(\"onepiece_jpn/onepiece_test.jpg\")\n",
    "img.load()\n",
    "text = pytesseract.image_to_string(img, lang=\"jpn\")  #Specify language to look after!\n",
    "\n",
    "translator = Translator()\n",
    "translated = translator.translate(pytesseract.image_to_string(img, lang=\"jpn_vert\"), src = \"ja\", dest = \"en\")\n",
    "print(text)\n",
    "print(translated.text)"
   ]
  },
  {
   "cell_type": "code",
   "execution_count": 17,
   "metadata": {},
   "outputs": [
    {
     "name": "stdout",
     "output_type": "stream",
     "text": [
      "Fujiwara Tofu shop (home\n"
     ]
    }
   ],
   "source": [
    "initial_D_img = cv2.imread(\"/Users/lsanchez/Desktop/initial_D.jpg\")\n",
    "img.load()\n",
    "d_text = pytesseract.image_to_string(initial_D_img, lang=\"jpn\")  #Specify language to look after!\n",
    "\n",
    "d_translated = translator.translate(d_text, src = \"ja\", dest = \"en\")\n",
    "#print(ad_text)\n",
    "print(d_translated.text)"
   ]
  },
  {
   "cell_type": "markdown",
   "metadata": {},
   "source": [
    "![](https://cdntdreditorials.azureedge.net/cache/a/2/5/4/e/7/a254e7aef0642ab03aff49a6856b5eb5e4b4b1e8.jpg)"
   ]
  },
  {
   "cell_type": "code",
   "execution_count": null,
   "metadata": {},
   "outputs": [],
   "source": []
  }
 ],
 "metadata": {
  "kernelspec": {
   "display_name": "Python 3",
   "language": "python",
   "name": "python3"
  },
  "language_info": {
   "codemirror_mode": {
    "name": "ipython",
    "version": 3
   },
   "file_extension": ".py",
   "mimetype": "text/x-python",
   "name": "python",
   "nbconvert_exporter": "python",
   "pygments_lexer": "ipython3",
   "version": "3.7.6"
  }
 },
 "nbformat": 4,
 "nbformat_minor": 4
}
