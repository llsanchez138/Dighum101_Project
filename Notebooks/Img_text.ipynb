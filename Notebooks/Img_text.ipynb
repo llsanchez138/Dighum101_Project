{
 "cells": [
  {
   "cell_type": "code",
   "execution_count": 1,
   "metadata": {
    "scrolled": true
   },
   "outputs": [],
   "source": [
    "#!pip install opencv-python\n",
    "#!pip install pytesseract\n",
    "#!pip install -U spacy"
   ]
  },
  {
   "cell_type": "code",
   "execution_count": 2,
   "metadata": {},
   "outputs": [],
   "source": [
    "import matplotlib as plt\n",
    "%matplotlib inline\n",
    "import pandas as pd\n",
    "import pytesseract \n",
    "import cv2\n",
    "pytesseract.pytesseract.tesseract_cmd = r'C:\\\\Program Files\\\\Tesseract-OCR\\\\tesseract.exe'\n",
    "import numpy as np\n",
    "import spacy\n",
    "from PIL import Image"
   ]
  },
  {
   "cell_type": "code",
   "execution_count": 19,
   "metadata": {
    "scrolled": true
   },
   "outputs": [
    {
     "data": {
      "text/plain": [
       "'UTF-8'"
      ]
     },
     "execution_count": 19,
     "metadata": {},
     "output_type": "execute_result"
    }
   ],
   "source": [
    "import locale\n",
    "locale.getpreferredencoding()\n"
   ]
  },
  {
   "cell_type": "code",
   "execution_count": null,
   "metadata": {},
   "outputs": [],
   "source": [
    "#runs forever, don't run\n",
    "imgdecode = cv2.imdecode(np.fromfile('/Users/lsanchez/Desktop/DIGHUM101-2020-Project/onepiece_test/onepiece_test.jpg', dtype=np.uint8), cv2.IMREAD_UNCHANGED)\n",
    "#print(imgdecode)\n",
    "cv2.imshow(\"img_decode\", imgdecode)\n",
    "cv2.waitKey()\n",
    "cv2.destroyAllWindows()"
   ]
  },
  {
   "cell_type": "code",
   "execution_count": 11,
   "metadata": {
    "scrolled": false
   },
   "outputs": [
    {
     "name": "stdout",
     "output_type": "stream",
     "text": [
      "Requirement already satisfied: opencv-contrib-python in /Users/lsanchez/opt/anaconda3/lib/python3.7/site-packages (4.2.0.34)\r\n",
      "Requirement already satisfied: numpy>=1.14.5 in /Users/lsanchez/opt/anaconda3/lib/python3.7/site-packages (from opencv-contrib-python) (1.18.1)\r\n"
     ]
    }
   ],
   "source": [
    "#!pip install opencv-contrib-python"
   ]
  },
  {
   "cell_type": "code",
   "execution_count": 3,
   "metadata": {},
   "outputs": [],
   "source": [
    "#!brew install tesseract\n",
    "#!pip install tesseract-ocr-jpn\n",
    "#!brew list tesseract\n",
    "pytesseract.pytesseract.tesseract_cmd = '/usr/local/Cellar/tesseract/4.1.1/bin/tesseract'\n",
    "tessdata_dir_config = \"/usr/local/Cellar/tesseract/4.1.1/bin/tesseract\""
   ]
  },
  {
   "cell_type": "code",
   "execution_count": 26,
   "metadata": {},
   "outputs": [
    {
     "name": "stdout",
     "output_type": "stream",
     "text": [
      "グル\n",
      "た\n",
      "\n",
      "Cu へ に て\n"
     ]
    }
   ],
   "source": [
    "#reading manga page\n",
    "output = pytesseract.image_to_string('/Users/lsanchez/Desktop/DIGHUM101-2020-Project/onepiece_test/onepiece_test.jpg', lang='jpn_vert', config=tessdata_dir_config)\n",
    "\n",
    "print(output)"
   ]
  },
  {
   "cell_type": "code",
   "execution_count": 5,
   "metadata": {
    "scrolled": true
   },
   "outputs": [
    {
     "name": "stdout",
     "output_type": "stream",
     "text": [
      "SURPRISINGLY,\n",
      "ata yao\n",
      "WORDS HE\n",
      "\n",
      "SPOKE BEFORE\n",
      "THEY LOPPED\n",
      "OFF HIS HEAD\n",
      "\n",
      "INSPIRED\n",
      "\n",
      "AQVENTURERS\n",
      "\n",
      "THROUGHOUT\n",
      "\n",
      "THE WORLO TO\n",
      "\n",
      "SAIL THE SEAS.\n",
      "\n",
      "SS\n",
      "ABOUT TO\n",
      "WITNESS\n",
      ")\n",
      "GREAT ERA\n",
      "\n",
      "GOLD\n",
      "\n",
      "ROGER,\n",
      "\n",
      "THE\n",
      "WEALTH, \"KING OF\n",
      "\n",
      "FAME aries\n",
      "\n",
      "ANO ee\n",
      "power PIRATES,\n",
      "\n",
      "HAD ALL\n",
      "ott =e)\n",
      "ee Tt (ill,\n",
      "\n",
      "HIS.\n",
      "\n",
      " \n",
      "\n",
      "iv\n",
      "\n",
      "MY\n",
      "TREASURE?\n",
      "WHY, IT’S RIGHT\n",
      "WHERE | LEFT IT...\n",
      "\n",
      "YOURS IF YOU\n",
      "CAN FINO IT...\n",
      "BUT YOU'LL HAVE\n",
      "TO SEARCH THE\n",
      "WHOLE WORLD!\n",
      "\n",
      " \n",
      "\n",
      "{My\n",
      "\n",
      "(y)\n"
     ]
    }
   ],
   "source": [
    "#reads english version of manga, but does not read boxes correctly\n",
    "op_eng_img=Image.open(\"/Users/lsanchez/Desktop/DIGHUM101-2020-Project/onepiece_test/onepiece_engtest.jpg\")\n",
    "op_eng_img.load()\n",
    "eng_text = pytesseract.image_to_string(op_eng_img, lang = \"eng\")    \n",
    "print(eng_text)"
   ]
  },
  {
   "cell_type": "code",
   "execution_count": 41,
   "metadata": {},
   "outputs": [
    {
     "name": "stdout",
     "output_type": "stream",
     "text": [
      "[[[255 255 255]\n",
      "  [255 255 255]\n",
      "  [255 255 255]\n",
      "  ...\n",
      "  [243 243 243]\n",
      "  [250 250 250]\n",
      "  [ 72  72  72]]\n",
      "\n",
      " [[255 255 255]\n",
      "  [255 255 255]\n",
      "  [255 255 255]\n",
      "  ...\n",
      "  [247 247 247]\n",
      "  [235 235 235]\n",
      "  [ 69  69  69]]\n",
      "\n",
      " [[255 255 255]\n",
      "  [255 255 255]\n",
      "  [255 255 255]\n",
      "  ...\n",
      "  [196 196 196]\n",
      "  [235 235 235]\n",
      "  [ 68  68  68]]\n",
      "\n",
      " ...\n",
      "\n",
      " [[  0   1   0]\n",
      "  [  0   1   0]\n",
      "  [  0   1   0]\n",
      "  ...\n",
      "  [  0   0   0]\n",
      "  [  0   0   0]\n",
      "  [  1   1   1]]\n",
      "\n",
      " [[  2   3   0]\n",
      "  [  1   2   0]\n",
      "  [  1   2   0]\n",
      "  ...\n",
      "  [  0   0   0]\n",
      "  [ 14  14  14]\n",
      "  [  3   3   3]]\n",
      "\n",
      " [[  1   2   0]\n",
      "  [  1   2   0]\n",
      "  [  1   2   0]\n",
      "  ...\n",
      "  [  1   1   1]\n",
      "  [  1   1   1]\n",
      "  [  1   1   1]]]\n"
     ]
    }
   ],
   "source": [
    "#outputs decoded image\n",
    "path = '/Users/lsanchez/Desktop/DIGHUM101-2020-Project/onepiece_test/onepiece_test.png'\n",
    "test_img = cv2.imread(path) \n",
    "cv2.startWindowThread()\n",
    "cv2.namedWindow(\"preview\")\n",
    "cv2.imshow(\"preview\", test_img)\n",
    "print(test_img)\n"
   ]
  },
  {
   "cell_type": "code",
   "execution_count": 25,
   "metadata": {},
   "outputs": [
    {
     "name": "stdout",
     "output_type": "stream",
     "text": [
      "Collecting translate\n",
      "  Downloading translate-3.5.0-py2.py3-none-any.whl (14 kB)\n",
      "Requirement already satisfied: click in /Users/lsanchez/opt/anaconda3/lib/python3.7/site-packages (from translate) (7.0)\n",
      "Collecting pre-commit\n",
      "  Downloading pre_commit-2.5.1-py2.py3-none-any.whl (171 kB)\n",
      "\u001b[K     |████████████████████████████████| 171 kB 9.4 MB/s eta 0:00:01\n",
      "\u001b[?25hRequirement already satisfied: lxml in /Users/lsanchez/opt/anaconda3/lib/python3.7/site-packages (from translate) (4.5.0)\n",
      "Collecting tox\n",
      "  Downloading tox-3.15.2-py2.py3-none-any.whl (137 kB)\n",
      "\u001b[K     |████████████████████████████████| 137 kB 6.8 MB/s eta 0:00:01\n",
      "\u001b[?25hRequirement already satisfied: requests in /Users/lsanchez/opt/anaconda3/lib/python3.7/site-packages (from translate) (2.22.0)\n",
      "Requirement already satisfied: importlib-metadata; python_version < \"3.8\" in /Users/lsanchez/opt/anaconda3/lib/python3.7/site-packages (from pre-commit->translate) (1.5.0)\n",
      "Requirement already satisfied: pyyaml>=5.1 in /Users/lsanchez/opt/anaconda3/lib/python3.7/site-packages (from pre-commit->translate) (5.3)\n",
      "Collecting toml\n",
      "  Downloading toml-0.10.1-py2.py3-none-any.whl (19 kB)\n",
      "Collecting identify>=1.0.0\n",
      "  Downloading identify-1.4.19-py2.py3-none-any.whl (97 kB)\n",
      "\u001b[K     |████████████████████████████████| 97 kB 5.8 MB/s  eta 0:00:01\n",
      "\u001b[?25hCollecting nodeenv>=0.11.1\n",
      "  Downloading nodeenv-1.4.0-py2.py3-none-any.whl (21 kB)\n",
      "Collecting virtualenv>=20.0.8\n",
      "  Downloading virtualenv-20.0.23-py2.py3-none-any.whl (4.7 MB)\n",
      "\u001b[K     |████████████████████████████████| 4.7 MB 13.3 MB/s eta 0:00:01\n",
      "\u001b[?25hCollecting cfgv>=2.0.0\n",
      "  Downloading cfgv-3.1.0-py2.py3-none-any.whl (7.3 kB)\n",
      "Requirement already satisfied: six>=1.14.0 in /Users/lsanchez/opt/anaconda3/lib/python3.7/site-packages (from tox->translate) (1.14.0)\n",
      "Requirement already satisfied: filelock>=3.0.0 in /Users/lsanchez/opt/anaconda3/lib/python3.7/site-packages (from tox->translate) (3.0.12)\n",
      "Requirement already satisfied: packaging>=14 in /Users/lsanchez/opt/anaconda3/lib/python3.7/site-packages (from tox->translate) (20.1)\n",
      "Requirement already satisfied: py>=1.4.17 in /Users/lsanchez/opt/anaconda3/lib/python3.7/site-packages (from tox->translate) (1.8.1)\n",
      "Requirement already satisfied: pluggy>=0.12.0 in /Users/lsanchez/opt/anaconda3/lib/python3.7/site-packages (from tox->translate) (0.13.1)\n",
      "Requirement already satisfied: urllib3!=1.25.0,!=1.25.1,<1.26,>=1.21.1 in /Users/lsanchez/opt/anaconda3/lib/python3.7/site-packages (from requests->translate) (1.25.8)\n",
      "Requirement already satisfied: certifi>=2017.4.17 in /Users/lsanchez/opt/anaconda3/lib/python3.7/site-packages (from requests->translate) (2019.11.28)\n",
      "Requirement already satisfied: chardet<3.1.0,>=3.0.2 in /Users/lsanchez/opt/anaconda3/lib/python3.7/site-packages (from requests->translate) (3.0.4)\n",
      "Requirement already satisfied: idna<2.9,>=2.5 in /Users/lsanchez/opt/anaconda3/lib/python3.7/site-packages (from requests->translate) (2.8)\n",
      "Requirement already satisfied: zipp>=0.5 in /Users/lsanchez/opt/anaconda3/lib/python3.7/site-packages (from importlib-metadata; python_version < \"3.8\"->pre-commit->translate) (2.2.0)\n",
      "Collecting appdirs<2,>=1.4.3\n",
      "  Downloading appdirs-1.4.4-py2.py3-none-any.whl (9.6 kB)\n",
      "Collecting distlib<1,>=0.3.0\n",
      "  Downloading distlib-0.3.0.zip (571 kB)\n",
      "\u001b[K     |████████████████████████████████| 571 kB 13.5 MB/s eta 0:00:01\n",
      "\u001b[?25hRequirement already satisfied: pyparsing>=2.0.2 in /Users/lsanchez/opt/anaconda3/lib/python3.7/site-packages (from packaging>=14->tox->translate) (2.4.6)\n",
      "Building wheels for collected packages: distlib\n",
      "  Building wheel for distlib (setup.py) ... \u001b[?25ldone\n",
      "\u001b[?25h  Created wheel for distlib: filename=distlib-0.3.0-py3-none-any.whl size=340427 sha256=189af5da8dd0c837726796a448e2e5769e9e0ea5d8833f5ed5de51728b8809e6\n",
      "  Stored in directory: /Users/lsanchez/Library/Caches/pip/wheels/a2/19/da/a15d4e2bedf3062c739b190d5cb5b7b2ecfbccb6b0d93c861b\n",
      "Successfully built distlib\n",
      "Installing collected packages: toml, identify, nodeenv, appdirs, distlib, virtualenv, cfgv, pre-commit, tox, translate\n",
      "Successfully installed appdirs-1.4.4 cfgv-3.1.0 distlib-0.3.0 identify-1.4.19 nodeenv-1.4.0 pre-commit-2.5.1 toml-0.10.1 tox-3.15.2 translate-3.5.0 virtualenv-20.0.23\n"
     ]
    }
   ],
   "source": [
    "#!pip install googletrans\n",
    "#!pip install translate"
   ]
  },
  {
   "cell_type": "code",
   "execution_count": 7,
   "metadata": {},
   "outputs": [],
   "source": [
    "from googletrans import Translator\n"
   ]
  },
  {
   "cell_type": "code",
   "execution_count": 25,
   "metadata": {},
   "outputs": [
    {
     "name": "stdout",
     "output_type": "stream",
     "text": [
      "に\n",
      "如\n",
      "\n",
      "びっくりレし:\n",
      "Guru\n",
      "Was\n",
      "\n",
      "To Cu\n"
     ]
    }
   ],
   "source": [
    "#reading whole managa page, changed to reading vertical, but program not finding all words\n",
    "img = Image.open(\"/Users/lsanchez/Desktop/DIGHUM101-2020-Project/onepiece_test/onepiece_test.jpg\")\n",
    "img.load()\n",
    "text = pytesseract.image_to_string(img, lang=\"jpn\")  #Specify language to look after!\n",
    "\n",
    "translator = Translator()\n",
    "translated = translator.translate(pytesseract.image_to_string(img, lang=\"jpn_vert\"), src = \"ja\", dest = \"en\")\n",
    "print(text)\n",
    "print(translated.text)"
   ]
  },
  {
   "cell_type": "code",
   "execution_count": 59,
   "metadata": {},
   "outputs": [
    {
     "name": "stdout",
     "output_type": "stream",
     "text": [
      "YY Sakirun\n",
      "\n",
      "Glory pan\n",
      "Fine nutrition white pavant\n",
      "\n",
      "  \n",
      "    \n",
      "\n",
      "Yamazaki Baking Co., Ltd.\n",
      "\n",
      "Central shops Various locations in Tokyo, Ichikawa, and Yokohama |\n"
     ]
    }
   ],
   "source": [
    "#reading japanese ad\n",
    "#ad_img = Image.open(\"/Users/lsanchez/Desktop/jpn_ad.jpg\")\n",
    "ad_img = cv2.imread(\"/Users/lsanchez/Desktop/jpn_ad.jpg\")\n",
    "img.load()\n",
    "ad_text = pytesseract.image_to_string(img, lang=\"jpn\")  #Specify language to look after!\n",
    "\n",
    "translator = Translator()\n",
    "ad_translated = translator.translate(pytesseract.image_to_string(ad_img, lang=\"jpn\"), src = \"ja\", dest = \"en\")\n",
    "#print(ad_text)\n",
    "print(ad_translated.text)"
   ]
  },
  {
   "cell_type": "code",
   "execution_count": 54,
   "metadata": {},
   "outputs": [
    {
     "name": "stdout",
     "output_type": "stream",
     "text": [
      "Have you tried it yet?\n",
      "Coca-Cola 4 le\n"
     ]
    }
   ],
   "source": [
    "#reading japanese ad\n",
    "ad = cv2.imread(\"/Users/lsanchez/Desktop/jpn_ad2.jpg\",  \n",
    "                  cv2.IMREAD_GRAYSCALE)\n",
    "img.load()\n",
    "ad_txt = pytesseract.image_to_string(img, lang=\"jpn\")  #Specify language to look after!\n",
    "\n",
    "translator = Translator()\n",
    "ad_trans = translator.translate(pytesseract.image_to_string(ad, lang=\"jpn\"), src = \"ja\", dest = \"en\")\n",
    "#print(ad_text)\n",
    "print(ad_trans.text)"
   ]
  },
  {
   "cell_type": "code",
   "execution_count": 24,
   "metadata": {},
   "outputs": [
    {
     "name": "stdout",
     "output_type": "stream",
     "text": [
      "ホー ル\n",
      "ケー キー\n",
      "アイ ラン ド\n",
      "Translated(src=ja, dest=en, text=Hole\n",
      "Keeky\n",
      "Island, pronunciation=[[]], extra_data=\"{'translat...\")\n"
     ]
    }
   ],
   "source": [
    "#reading screen shot of vertical japanese text \"Whole Cake Island\"\n",
    "ss = pytesseract.image_to_string('/Users/lsanchez/Desktop/jpn_ss.jpg', lang='jpn_vert', config=tessdata_dir_config)\n",
    "print(ss)\n",
    "ss_trans = translator.translate(ss)\n",
    "print(ss_trans)"
   ]
  },
  {
   "cell_type": "code",
   "execution_count": 75,
   "metadata": {},
   "outputs": [
    {
     "name": "stdout",
     "output_type": "stream",
     "text": [
      "Fujiwara Tofu shop (home\n"
     ]
    }
   ],
   "source": [
    "initial_D_img = cv2.imread(\"/Users/lsanchez/Desktop/initial_D.jpg\")\n",
    "img.load()\n",
    "d_text = pytesseract.image_to_string(initial_D_img, lang=\"jpn\")  #Specify language to look after!\n",
    "\n",
    "d_translated = translator.translate(d_text, src = \"ja\", dest = \"en\")\n",
    "#print(ad_text)\n",
    "print(d_translated.text)"
   ]
  },
  {
   "cell_type": "code",
   "execution_count": 63,
   "metadata": {},
   "outputs": [
    {
     "name": "stdout",
     "output_type": "stream",
     "text": [
      "\n"
     ]
    }
   ],
   "source": [
    "#reading initial D\n",
    "initial_D = cv2.imread(\"/Users/lsanchez/Desktop/initial_D.jpg\",  \n",
    "                  cv2.IMREAD_GRAYSCALE)\n",
    "img.load()\n",
    "initial_D_text = pytesseract.image_to_string(initial_D, lang=\"jpn\")  #Specify language to look after!\n",
    "\n",
    "translator = Translator()\n",
    "d_trans = translator.translate(pytesseract.image_to_string(initial_D, lang=\"jpn\")  , dest = \"en\")\n",
    "#print(ad_text)\n",
    "print(d_trans.text)"
   ]
  }
 ],
 "metadata": {
  "kernelspec": {
   "display_name": "Python 3",
   "language": "python",
   "name": "python3"
  },
  "language_info": {
   "codemirror_mode": {
    "name": "ipython",
    "version": 3
   },
   "file_extension": ".py",
   "mimetype": "text/x-python",
   "name": "python",
   "nbconvert_exporter": "python",
   "pygments_lexer": "ipython3",
   "version": "3.7.6"
  }
 },
 "nbformat": 4,
 "nbformat_minor": 4
}
